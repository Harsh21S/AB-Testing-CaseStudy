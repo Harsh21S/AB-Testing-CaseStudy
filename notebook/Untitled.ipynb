{
 "cells": [
  {
   "cell_type": "markdown",
   "id": "43784297-abe4-4325-8c82-9bd6f76a1851",
   "metadata": {
    "panel-layout": {
     "height": 50.8125,
     "visible": true,
     "width": 100
    }
   },
   "source": [
    "## Loading the Data"
   ]
  },
  {
   "cell_type": "code",
   "execution_count": 3,
   "id": "f6053b7d-8797-4c2e-a3e5-8e1c591b5c9d",
   "metadata": {},
   "outputs": [],
   "source": [
    "import numpy as np\n",
    "import pandas as pd\n",
    "from scipy.stats import norm\n",
    "import seaborn as sns\n",
    "import matplotlib.pyplot as plt"
   ]
  },
  {
   "cell_type": "code",
   "execution_count": 4,
   "id": "dcd6015a-bb63-4b34-b4c0-9f1d4fa67519",
   "metadata": {},
   "outputs": [],
   "source": [
    "data_path = r'../data/raw/ab_test_click_data.csv'\n",
    "\n",
    "df = pd.read_csv(data_path)"
   ]
  },
  {
   "cell_type": "code",
   "execution_count": 5,
   "id": "0302bda7-d8a0-4f20-aa44-964a3d124692",
   "metadata": {
    "panel-layout": {
     "height": 169.1999969482422,
     "visible": true,
     "width": 100
    }
   },
   "outputs": [
    {
     "data": {
      "text/html": [
       "<div>\n",
       "<style scoped>\n",
       "    .dataframe tbody tr th:only-of-type {\n",
       "        vertical-align: middle;\n",
       "    }\n",
       "\n",
       "    .dataframe tbody tr th {\n",
       "        vertical-align: top;\n",
       "    }\n",
       "\n",
       "    .dataframe thead th {\n",
       "        text-align: right;\n",
       "    }\n",
       "</style>\n",
       "<table border=\"1\" class=\"dataframe\">\n",
       "  <thead>\n",
       "    <tr style=\"text-align: right;\">\n",
       "      <th></th>\n",
       "      <th>user_id</th>\n",
       "      <th>click</th>\n",
       "      <th>group</th>\n",
       "      <th>timestamp</th>\n",
       "    </tr>\n",
       "  </thead>\n",
       "  <tbody>\n",
       "    <tr>\n",
       "      <th>0</th>\n",
       "      <td>1</td>\n",
       "      <td>1</td>\n",
       "      <td>exp</td>\n",
       "      <td>2024-01-01 00:00:00</td>\n",
       "    </tr>\n",
       "    <tr>\n",
       "      <th>1</th>\n",
       "      <td>2</td>\n",
       "      <td>0</td>\n",
       "      <td>exp</td>\n",
       "      <td>2024-01-01 00:01:00</td>\n",
       "    </tr>\n",
       "    <tr>\n",
       "      <th>2</th>\n",
       "      <td>3</td>\n",
       "      <td>1</td>\n",
       "      <td>exp</td>\n",
       "      <td>2024-01-01 00:02:00</td>\n",
       "    </tr>\n",
       "    <tr>\n",
       "      <th>3</th>\n",
       "      <td>4</td>\n",
       "      <td>0</td>\n",
       "      <td>exp</td>\n",
       "      <td>2024-01-01 00:03:00</td>\n",
       "    </tr>\n",
       "    <tr>\n",
       "      <th>4</th>\n",
       "      <td>5</td>\n",
       "      <td>1</td>\n",
       "      <td>exp</td>\n",
       "      <td>2024-01-01 00:04:00</td>\n",
       "    </tr>\n",
       "  </tbody>\n",
       "</table>\n",
       "</div>"
      ],
      "text/plain": [
       "   user_id  click group            timestamp\n",
       "0        1      1   exp  2024-01-01 00:00:00\n",
       "1        2      0   exp  2024-01-01 00:01:00\n",
       "2        3      1   exp  2024-01-01 00:02:00\n",
       "3        4      0   exp  2024-01-01 00:03:00\n",
       "4        5      1   exp  2024-01-01 00:04:00"
      ]
     },
     "execution_count": 5,
     "metadata": {},
     "output_type": "execute_result"
    }
   ],
   "source": [
    "df.head(5)"
   ]
  },
  {
   "cell_type": "code",
   "execution_count": 6,
   "id": "db81745c-53ab-41b0-9a54-a675fa7d9685",
   "metadata": {
    "panel-layout": {
     "height": 27.137500762939453,
     "visible": true,
     "width": 100
    }
   },
   "outputs": [
    {
     "data": {
      "text/plain": [
       "(20000, 4)"
      ]
     },
     "execution_count": 6,
     "metadata": {},
     "output_type": "execute_result"
    }
   ],
   "source": [
    "df.shape"
   ]
  },
  {
   "cell_type": "code",
   "execution_count": 7,
   "id": "19410292-d1d5-4915-b7c4-5d724ce15607",
   "metadata": {
    "panel-layout": {
     "height": 248.39999389648438,
     "visible": true,
     "width": 100
    }
   },
   "outputs": [
    {
     "data": {
      "text/html": [
       "<div>\n",
       "<style scoped>\n",
       "    .dataframe tbody tr th:only-of-type {\n",
       "        vertical-align: middle;\n",
       "    }\n",
       "\n",
       "    .dataframe tbody tr th {\n",
       "        vertical-align: top;\n",
       "    }\n",
       "\n",
       "    .dataframe thead th {\n",
       "        text-align: right;\n",
       "    }\n",
       "</style>\n",
       "<table border=\"1\" class=\"dataframe\">\n",
       "  <thead>\n",
       "    <tr style=\"text-align: right;\">\n",
       "      <th></th>\n",
       "      <th>user_id</th>\n",
       "      <th>click</th>\n",
       "    </tr>\n",
       "  </thead>\n",
       "  <tbody>\n",
       "    <tr>\n",
       "      <th>count</th>\n",
       "      <td>20000.000000</td>\n",
       "      <td>20000.000000</td>\n",
       "    </tr>\n",
       "    <tr>\n",
       "      <th>mean</th>\n",
       "      <td>10000.500000</td>\n",
       "      <td>0.405250</td>\n",
       "    </tr>\n",
       "    <tr>\n",
       "      <th>std</th>\n",
       "      <td>5773.647028</td>\n",
       "      <td>0.490953</td>\n",
       "    </tr>\n",
       "    <tr>\n",
       "      <th>min</th>\n",
       "      <td>1.000000</td>\n",
       "      <td>0.000000</td>\n",
       "    </tr>\n",
       "    <tr>\n",
       "      <th>25%</th>\n",
       "      <td>5000.750000</td>\n",
       "      <td>0.000000</td>\n",
       "    </tr>\n",
       "    <tr>\n",
       "      <th>50%</th>\n",
       "      <td>10000.500000</td>\n",
       "      <td>0.000000</td>\n",
       "    </tr>\n",
       "    <tr>\n",
       "      <th>75%</th>\n",
       "      <td>15000.250000</td>\n",
       "      <td>1.000000</td>\n",
       "    </tr>\n",
       "    <tr>\n",
       "      <th>max</th>\n",
       "      <td>20000.000000</td>\n",
       "      <td>1.000000</td>\n",
       "    </tr>\n",
       "  </tbody>\n",
       "</table>\n",
       "</div>"
      ],
      "text/plain": [
       "            user_id         click\n",
       "count  20000.000000  20000.000000\n",
       "mean   10000.500000      0.405250\n",
       "std     5773.647028      0.490953\n",
       "min        1.000000      0.000000\n",
       "25%     5000.750000      0.000000\n",
       "50%    10000.500000      0.000000\n",
       "75%    15000.250000      1.000000\n",
       "max    20000.000000      1.000000"
      ]
     },
     "execution_count": 7,
     "metadata": {},
     "output_type": "execute_result"
    }
   ],
   "source": [
    "df.describe()"
   ]
  },
  {
   "cell_type": "code",
   "execution_count": 8,
   "id": "13d4d161-b0d2-4fd5-9166-edf5d65ac664",
   "metadata": {
    "panel-layout": {
     "height": 116.4000015258789,
     "visible": true,
     "width": 100
    }
   },
   "outputs": [
    {
     "data": {
      "text/plain": [
       "group\n",
       "con    1989\n",
       "exp    6116\n",
       "Name: click, dtype: int64"
      ]
     },
     "execution_count": 8,
     "metadata": {},
     "output_type": "execute_result"
    }
   ],
   "source": [
    "df.groupby('group')['click'].sum()"
   ]
  },
  {
   "cell_type": "code",
   "execution_count": 9,
   "id": "de1827a7-dc6f-4309-8461-5b79de8c83cf",
   "metadata": {
    "panel-layout": {
     "height": 0,
     "visible": true,
     "width": 100
    }
   },
   "outputs": [
    {
     "name": "stdout",
     "output_type": "stream",
     "text": [
      "<class 'pandas.core.frame.DataFrame'>\n",
      "RangeIndex: 20000 entries, 0 to 19999\n",
      "Data columns (total 4 columns):\n",
      " #   Column     Non-Null Count  Dtype \n",
      "---  ------     --------------  ----- \n",
      " 0   user_id    20000 non-null  int64 \n",
      " 1   click      20000 non-null  int64 \n",
      " 2   group      20000 non-null  object\n",
      " 3   timestamp  10000 non-null  object\n",
      "dtypes: int64(2), object(2)\n",
      "memory usage: 625.1+ KB\n"
     ]
    }
   ],
   "source": [
    "df.info()"
   ]
  },
  {
   "cell_type": "markdown",
   "id": "38e061c9-797d-4254-ae5e-a578308fdec8",
   "metadata": {
    "panel-layout": {
     "height": 51.13750076293945,
     "visible": true,
     "width": 100
    }
   },
   "source": [
    "A bar chart showing the total clicks verses no-clicks in each group"
   ]
  },
  {
   "cell_type": "code",
   "execution_count": 11,
   "id": "b5116c03-633b-480b-b61f-63c3e5c628fb",
   "metadata": {
    "panel-layout": {
     "height": 874,
     "visible": true,
     "width": 100
    }
   },
   "outputs": [
    {
     "data": {
      "image/png": "[encoded data removed]",
      "text/plain": [
       "<Figure size 1000x600 with 1 Axes>"
      ]
     },
     "metadata": {},
     "output_type": "display_data"
    }
   ],
   "source": [
    "palette = {0: 'red', 1: 'blue'}\n",
    "\n",
    "plt.figure(figsize=(10,6))\n",
    "ax = sns.countplot(x='group', hue='click', data=df, palette=palette)\n",
    "plt.title(\"Click Distribution in Experimental and Control Groups\")\n",
    "plt.xlabel('Group')\n",
    "plt.ylabel('Count')\n",
    "plt.legend(title=\"Click\", labels=[\"no\", \"Yes\"])\n",
    "\n",
    "group_counts = df.groupby(['group']).size()\n",
    "group_click_counts = df.groupby(['group','click']).size().reset_index(name=\"count\")\n",
    "\n",
    "for p in ax.patches:\n",
    "    height = p.get_height()\n",
    "    group = 'exp' if p.get_x() < 0.5 else 'con'\n",
    "    click = 1 if p.get_x() % 1 > 0.5 else 0\n",
    "    total = group_counts.loc[group]\n",
    "    percentage = 100 * height / total\n",
    "    ax.text(p.get_x() + p.get_width() / 2., height + 5, f'{percentage:.1f}%', ha=\"center\", color='black', fontsize=10)\n",
    "\n",
    "plt.tight_layout()\n",
    "plt.show()"
   ]
  },
  {
   "cell_type": "code",
   "execution_count": 19,
   "id": "31a78ddd-46a6-4254-bd46-a60b296019ab",
   "metadata": {
    "panel-layout": {
     "height": 874,
     "visible": true,
     "width": 100
    }
   },
   "outputs": [
    {
     "name": "stdout",
     "output_type": "stream",
     "text": [
      "Alpha: significant level is: 0.05\n",
      "Delta: minimum detectavble effect is: 0.1\n"
     ]
    }
   ],
   "source": [
    "alpha = 0.05\n",
    "print(\"Alpha: significant level is:\", alpha)\n",
    "\n",
    "delta = 0.1\n",
    "print(\"Delta: minimum detectavble effect is:\", delta)"
   ]
  },
  {
   "cell_type": "markdown",
   "id": "7760a145-ac00-443c-a758-3bc31e9561f3",
   "metadata": {
    "panel-layout": {
     "height": 50.8125,
     "visible": true,
     "width": 100
    }
   },
   "source": [
    "## Calculating total number of click for each group"
   ]
  },
  {
   "cell_type": "code",
   "execution_count": 37,
   "id": "7ab8e4f0-782e-4bb5-a09b-61f6bb11dd9d",
   "metadata": {
    "panel-layout": {
     "height": 874,
     "visible": true,
     "width": 100
    }
   },
   "outputs": [
    {
     "name": "stdout",
     "output_type": "stream",
     "text": [
      "group\n",
      "con    1989\n",
      "exp    6116\n",
      "Name: click, dtype: int64\n",
      "Number of Users in control:\n",
      " user_id      10000\n",
      "click        10000\n",
      "group        10000\n",
      "timestamp        0\n",
      "dtype: int64\n",
      "Number of Users in Experimental:\n",
      " user_id      10000\n",
      "click        10000\n",
      "group        10000\n",
      "timestamp    10000\n",
      "dtype: int64\n",
      "Number of Clicks in control: 1989\n",
      "Number of Clicks in Experimental: 6116\n"
     ]
    }
   ],
   "source": [
    "N_con = df[df[\"group\"] == \"con\"].count()\n",
    "N_exp = df[df[\"group\"] == \"exp\"].count()\n",
    "\n",
    "X_con = df.groupby(\"group\")[\"click\"].sum().loc[\"con\"]\n",
    "X_exp = df.groupby(\"group\")[\"click\"].sum().loc[\"exp\"]\n",
    "\n",
    "print(df.groupby(\"group\")[\"click\"].sum())\n",
    "print(\"Number of Users in control:\\n\", N_con)\n",
    "print(\"Number of Users in Experimental:\\n\", N_exp)\n",
    "print(\"Number of Clicks in control:\", X_con)\n",
    "print(\"Number of Clicks in Experimental:\", X_exp)"
   ]
  },
  {
   "cell_type": "markdown",
   "id": "fe3a5e5f-2116-47f3-94fd-db3495abba74",
   "metadata": {
    "panel-layout": {
     "height": 50.8125,
     "visible": true,
     "width": 100
    }
   },
   "source": [
    "## Calculating Pooled Estimates for Clicks per Group"
   ]
  },
  {
   "cell_type": "code",
   "execution_count": 47,
   "id": "51dccbca-2b08-4f91-8920-d6b6e4428ff4",
   "metadata": {
    "panel-layout": {
     "height": 874,
     "visible": true,
     "width": 100
    },
    "scrolled": true
   },
   "outputs": [
    {
     "name": "stdout",
     "output_type": "stream",
     "text": [
      "Click Probability in Control Group: user_id      0.1989\n",
      "click        0.1989\n",
      "group        0.1989\n",
      "timestamp       inf\n",
      "dtype: float64\n",
      "Click Probability in Experimental Group: user_id      0.6116\n",
      "click        0.6116\n",
      "group        0.6116\n",
      "timestamp    0.6116\n",
      "dtype: float64\n",
      "Pooled Click Probability: user_id      0.40525\n",
      "click        0.40525\n",
      "group        0.40525\n",
      "timestamp    0.81050\n",
      "dtype: float64\n"
     ]
    }
   ],
   "source": [
    "p_con_hat = X_con/N_con\n",
    "p_exp_hat = X_exp/N_exp\n",
    "print(\"Click Probability in Control Group:\", p_con_hat)\n",
    "print(\"Click Probability in Experimental Group:\", p_exp_hat)\n",
    "\n",
    "p_pooled_hat = (X_con+X_exp)/(N_con + N_exp)\n",
    "print(\"Pooled Click Probability:\", p_pooled_hat)"
   ]
  },
  {
   "cell_type": "markdown",
   "id": "06c22b06-3125-4b33-9e05-3962fd670833",
   "metadata": {
    "panel-layout": {
     "height": 50.8125,
     "visible": true,
     "width": 100
    }
   },
   "source": [
    "## Calculating Pooled Variance"
   ]
  },
  {
   "cell_type": "code",
   "execution_count": null,
   "id": "fa43ff97-a459-4f41-8945-67db458fb522",
   "metadata": {},
   "outputs": [],
   "source": [
    "pooled_variance = p_pooled_hat * (1-p_pooled_hat) * (1/N_con + 1/N_exp)"
   ]
  },
  {
   "cell_type": "code",
   "execution_count": null,
   "id": "309ff632-0369-4fde-be3a-fb23b8d8ae0c",
   "metadata": {},
   "outputs": [],
   "source": []
  }
 ],
 "metadata": {
  "kernelspec": {
   "display_name": "Python [conda env:base] *",
   "language": "python",
   "name": "conda-base-py"
  },
  "language_info": {
   "codemirror_mode": {
    "name": "ipython",
    "version": 3
   },
   "file_extension": ".py",
   "mimetype": "text/x-python",
   "name": "python",
   "nbconvert_exporter": "python",
   "pygments_lexer": "ipython3",
   "version": "3.12.7"
  },
  "panel-cell-order": [
   "43784297-abe4-4325-8c82-9bd6f76a1851",
   "0302bda7-d8a0-4f20-aa44-964a3d124692",
   "db81745c-53ab-41b0-9a54-a675fa7d9685",
   "19410292-d1d5-4915-b7c4-5d724ce15607",
   "13d4d161-b0d2-4fd5-9166-edf5d65ac664",
   "de1827a7-dc6f-4309-8461-5b79de8c83cf",
   "38e061c9-797d-4254-ae5e-a578308fdec8",
   "b5116c03-633b-480b-b61f-63c3e5c628fb",
   "31a78ddd-46a6-4254-bd46-a60b296019ab",
   "7760a145-ac00-443c-a758-3bc31e9561f3",
   "7ab8e4f0-782e-4bb5-a09b-61f6bb11dd9d",
   "fe3a5e5f-2116-47f3-94fd-db3495abba74",
   "51dccbca-2b08-4f91-8920-d6b6e4428ff4",
   "06c22b06-3125-4b33-9e05-3962fd670833"
  ]
 },
 "nbformat": 4,
 "nbformat_minor": 5
}
